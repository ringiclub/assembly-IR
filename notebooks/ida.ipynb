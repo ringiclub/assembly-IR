{
 "cells": [
  {
   "cell_type": "markdown",
   "metadata": {},
   "source": [
    "# IDA Microcode\n",
    "\n",
    "The microcode, also called IR (Intermediate Representation), is the first stage of IDA decompilation process. <br>\n",
    "In this case, microcode is the IR of assembly instruction, think of them like LLVM'S IR."
   ]
  }
 ],
 "metadata": {
  "language_info": {
   "name": "python"
  },
  "orig_nbformat": 4
 },
 "nbformat": 4,
 "nbformat_minor": 2
}
