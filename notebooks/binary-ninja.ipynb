{
 "cells": [
  {
   "attachments": {},
   "cell_type": "markdown",
   "metadata": {},
   "source": [
    "# Binary Ninja Intermediate Language (BNIL)\n",
    "\n",
    "The Binary Ninja Intermediate Language (BNIL) is a semantic representation of the assembly language instructions for a native architecture in Binary Ninja. BNIL is actually a family of intermediate languages that work together to provide functionality at different abstraction layers.\n",
    "\n",
    "BNIL is a tree-based, architecture-independent intermediate representation of machine code used throughout Binary Ninja.\n",
    "\n",
    "![BNIL-overview.png](https://docs.binary.ninja/img/BNIL-overview.png)"
   ]
  }
 ],
 "metadata": {
  "language_info": {
   "name": "python"
  },
  "orig_nbformat": 4
 },
 "nbformat": 4,
 "nbformat_minor": 2
}
