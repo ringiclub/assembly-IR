{
 "cells": [
  {
   "attachments": {},
   "cell_type": "markdown",
   "metadata": {},
   "source": [
    "# Binary Ninja Intermediate Language (BNIL)\n",
    "\n",
    "The Binary Ninja Intermediate Language (BNIL) is a semantic representation of the assembly language instructions for a native architecture in Binary Ninja. BNIL is actually a family of intermediate languages that work together to provide functionality at different abstraction layers.\n",
    "\n",
    "BNIL is a tree-based, architecture-independent intermediate representation of machine code used throughout Binary Ninja.\n",
    "\n",
    "![BNIL-overview.png](https://docs.binary.ninja/img/BNIL-overview.png)\n",
    "\n",
    "> [!IMPORTANT]\n",
    "> Binary Ninja has a very good user documentation that you can read to find out more about BNIL. Due to potential regular updates and the like this notbook will quickly be deprecated, so the best way to learn about BNIL is to go right here https://docs.binary.ninja/dev/bnil-overview.html"
   ]
  }
 ],
 "metadata": {
  "language_info": {
   "name": "python"
  },
  "orig_nbformat": 4
 },
 "nbformat": 4,
 "nbformat_minor": 2
}
